{
 "cells": [
  {
   "cell_type": "code",
   "execution_count": null,
   "metadata": {},
   "outputs": [],
   "source": [
    "import pyautogui\n",
    "import time"
   ]
  },
  {
   "cell_type": "code",
   "execution_count": null,
   "metadata": {},
   "outputs": [],
   "source": [
    "# Pause between each pyautogui command\n",
    "pyautogui.PAUSE = 0.5\n",
    "\n",
    "screen_width, screen_height = pyautogui.size()\n",
    "\n",
    "print(f\"Screen resolution: {screen_width}x{screen_height}\")\n",
    "\n"
   ]
  },
  {
   "cell_type": "markdown",
   "metadata": {},
   "source": [
    "### Mouse movements\n",
    "\n",
    "\n",
    "Move the mouse to (x, y) coordinates\n",
    "Moves the mouse to position (500, 500) in 1 second\n",
    "\n",
    "Move the mouse relative to its current position\n",
    "Moves the mouse 100 pixels right and 100 pixels up in 1 second\n",
    "\n",
    "Drag the mouse (click and hold while moving)\n",
    "Drag to position (600, 600) in 1 second"
   ]
  },
  {
   "cell_type": "code",
   "execution_count": null,
   "metadata": {},
   "outputs": [],
   "source": [
    "pyautogui.moveTo(500, 500, duration=1)\n",
    " \n",
    "pyautogui.moveRel(100, -100, duration=1)\n",
    "\n",
    "pyautogui.click()\n",
    "\n",
    "pyautogui.dragTo(600, 600, duration=1, button='left')\n",
    "\n",
    "pyautogui.scroll(500)  # Scroll up\n",
    "pyautogui.scroll(-500)  # Scroll down\n",
    "\n",
    "\n",
    "\n"
   ]
  },
  {
   "cell_type": "markdown",
   "metadata": {},
   "source": [
    "### Get the current mouse position"
   ]
  },
  {
   "cell_type": "code",
   "execution_count": null,
   "metadata": {},
   "outputs": [],
   "source": [
    "current_position = pyautogui.position()\n",
    "print(f\"Current mouse position: {current_position}\")"
   ]
  },
  {
   "cell_type": "markdown",
   "metadata": {},
   "source": [
    "### Move mouse in a square pattern"
   ]
  },
  {
   "cell_type": "code",
   "execution_count": null,
   "metadata": {},
   "outputs": [],
   "source": [
    "for _ in range(4):\n",
    "    pyautogui.moveRel(100, 0, duration=0.5)  # Move right\n",
    "    pyautogui.moveRel(0, 100, duration=0.5)  # Move down\n",
    "    pyautogui.moveRel(-100, 0, duration=0.5)  # Move left\n",
    "    pyautogui.moveRel(0, -100, duration=0.5)  # Move up"
   ]
  }
 ],
 "metadata": {
  "language_info": {
   "name": "python"
  }
 },
 "nbformat": 4,
 "nbformat_minor": 2
}
